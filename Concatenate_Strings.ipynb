{
  "nbformat": 4,
  "nbformat_minor": 0,
  "metadata": {
    "colab": {
      "provenance": [],
      "authorship_tag": "ABX9TyMYXfgD39+7/18SPytD4f1D",
      "include_colab_link": true
    },
    "kernelspec": {
      "name": "python3",
      "display_name": "Python 3"
    },
    "language_info": {
      "name": "python"
    }
  },
  "cells": [
    {
      "cell_type": "markdown",
      "metadata": {
        "id": "view-in-github",
        "colab_type": "text"
      },
      "source": [
        "<a href=\"https://colab.research.google.com/github/gpaldtya2002/Concatenate-strings/blob/main/Concatenate_Strings.ipynb\" target=\"_parent\"><img src=\"https://colab.research.google.com/assets/colab-badge.svg\" alt=\"Open In Colab\"/></a>"
      ]
    },
    {
      "cell_type": "code",
      "execution_count": 7,
      "metadata": {
        "colab": {
          "base_uri": "https://localhost:8080/"
        },
        "id": "TI0NM4UQGs77",
        "outputId": "33e85752-1bbc-4b3a-abf4-979bd1d6b2e9"
      },
      "outputs": [
        {
          "output_type": "stream",
          "name": "stdout",
          "text": [
            "Aaditya Chaturvedi\n"
          ]
        }
      ],
      "source": [
        "# this is a code to join two strings\n",
        "name= \"Aaditya\"\n",
        "surname= \" Chaturvedi\"\n",
        "full_name = name+ surname\n",
        "print(full_name)\n",
        "#else\n",
        "#print(name, surname)"
      ]
    }
  ]
}